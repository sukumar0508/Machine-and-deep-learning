{
  "nbformat": 4,
  "nbformat_minor": 0,
  "metadata": {
    "colab": {
      "provenance": []
    },
    "kernelspec": {
      "name": "python3",
      "display_name": "Python 3"
    },
    "language_info": {
      "name": "python"
    }
  },
  "cells": [
    {
      "cell_type": "code",
      "execution_count": null,
      "metadata": {
        "colab": {
          "base_uri": "https://localhost:8080/"
        },
        "id": "ivBXG8TXZxdw",
        "outputId": "3ccc0041-8832-435a-b945-4a00097d0c97"
      },
      "outputs": [
        {
          "output_type": "stream",
          "name": "stderr",
          "text": [
            "[nltk_data] Downloading package stopwords to /root/nltk_data...\n",
            "[nltk_data]   Unzipping corpora/stopwords.zip.\n"
          ]
        },
        {
          "output_type": "stream",
          "name": "stdout",
          "text": [
            "\n",
            "Enter a sentence to check if it's spam (or type 'exit' to quit): Win a free iPhone now!\n",
            "Prediction: spam\n",
            "\n",
            "Enter a sentence to check if it's spam (or type 'exit' to quit): Let's meet for coffee.\n",
            "Prediction: not spam\n",
            "\n",
            "Enter a sentence to check if it's spam (or type 'exit' to quit): exit\n",
            "Exiting spam detector. Goodbye!\n"
          ]
        }
      ],
      "source": [
        "import re\n",
        "import string\n",
        "import nltk\n",
        "from nltk.corpus import stopwords\n",
        "from sklearn.feature_extraction.text import TfidfVectorizer\n",
        "from sklearn.naive_bayes import MultinomialNB\n",
        "\n",
        "# Download stopwords if not already available\n",
        "nltk.download(\"stopwords\")\n",
        "\n",
        "# Sample training data\n",
        "spam_texts = [\n",
        "    \"Win a lottery now! Click here to claim your prize.\",\n",
        "    \"You have won a free iPhone! Claim now.\",\n",
        "    \"Congratulations! You've been selected for a cash reward.\",\n",
        "    \"Exclusive deal just for you. Buy now and get 50% off!\",\n",
        "    \"Urgent! Your account will be closed unless you verify now.\"\n",
        "]\n",
        "\n",
        "ham_texts = [\n",
        "    \"Hey, are you coming to the party tonight?\",\n",
        "    \"Let's meet for lunch tomorrow.\",\n",
        "    \"Did you finish the assignment?\",\n",
        "    \"I'll call you in the evening.\",\n",
        "    \"Looking forward to our trip next week.\"\n",
        "]\n",
        "\n",
        "# Combine data and create labels\n",
        "texts = spam_texts + ham_texts\n",
        "labels = [\"spam\"] * len(spam_texts) + [\"not spam\"] * len(ham_texts)\n",
        "\n",
        "# Function to preprocess text\n",
        "def preprocess(text):\n",
        "    text = text.lower()\n",
        "    text = re.sub(f\"[{string.punctuation}]\", \"\", text)  # Remove punctuation\n",
        "    words = text.split()\n",
        "    words = [word for word in words if word not in stopwords.words(\"english\")]\n",
        "    return \" \".join(words)\n",
        "\n",
        "# Preprocess texts\n",
        "processed_texts = [preprocess(text) for text in texts]\n",
        "\n",
        "# Convert text data into numerical features\n",
        "vectorizer = TfidfVectorizer()\n",
        "X = vectorizer.fit_transform(processed_texts)\n",
        "\n",
        "# Train a Naïve Bayes classifier\n",
        "model = MultinomialNB()\n",
        "model.fit(X, labels)\n",
        "\n",
        "# Function to check if a sentence is spam\n",
        "def check_spam(sentence):\n",
        "    processed_sentence = preprocess(sentence)\n",
        "    X_input = vectorizer.transform([processed_sentence])\n",
        "    prediction = model.predict(X_input)\n",
        "    return prediction[0]\n",
        "\n",
        "# Continuous loop for checking multiple inputs\n",
        "while True:\n",
        "    user_input = input(\"\\nEnter a sentence to check if it's spam (or type 'exit' to quit): \")\n",
        "    if user_input.lower() == \"exit\":\n",
        "        print(\"Exiting spam detector. Goodbye!\")\n",
        "        break\n",
        "    result = check_spam(user_input)\n",
        "    print(f\"Prediction: {result}\")\n"
      ]
    }
  ]
}