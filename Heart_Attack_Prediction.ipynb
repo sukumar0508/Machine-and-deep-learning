{
  "nbformat": 4,
  "nbformat_minor": 0,
  "metadata": {
    "colab": {
      "provenance": []
    },
    "kernelspec": {
      "name": "python3",
      "display_name": "Python 3"
    },
    "language_info": {
      "name": "python"
    }
  },
  "cells": [
    {
      "cell_type": "code",
      "execution_count": 2,
      "metadata": {
        "colab": {
          "base_uri": "https://localhost:8080/",
          "height": 1000
        },
        "id": "Q5KM69b-dbi_",
        "outputId": "d6bea628-0dbf-4f6f-b2f2-a9276a90e59c"
      },
      "outputs": [
        {
          "output_type": "stream",
          "name": "stdout",
          "text": [
            "   Age Sex ChestPainType  RestingBP  Cholesterol  FastingBS RestingECG  MaxHR  \\\n",
            "0   40   M           ATA        140          289          0     Normal    172   \n",
            "1   49   F           NAP        160          180          0     Normal    156   \n",
            "2   37   M           ATA        130          283          0         ST     98   \n",
            "3   48   F           ASY        138          214          0     Normal    108   \n",
            "4   54   M           NAP        150          195          0     Normal    122   \n",
            "\n",
            "  ExerciseAngina  Oldpeak ST_Slope  HeartDisease  \n",
            "0              N      0.0       Up             0  \n",
            "1              N      1.0     Flat             1  \n",
            "2              N      0.0       Up             0  \n",
            "3              Y      1.5     Flat             1  \n",
            "4              N      0.0       Up             0  \n",
            "Age               0\n",
            "Sex               0\n",
            "ChestPainType     0\n",
            "RestingBP         0\n",
            "Cholesterol       0\n",
            "FastingBS         0\n",
            "RestingECG        0\n",
            "MaxHR             0\n",
            "ExerciseAngina    0\n",
            "Oldpeak           0\n",
            "ST_Slope          0\n",
            "HeartDisease      0\n",
            "dtype: int64\n"
          ]
        },
        {
          "output_type": "display_data",
          "data": {
            "text/plain": [
              "<Figure size 500x400 with 2 Axes>"
            ],
            "image/png": "[encoded data removed]"
          },
          "metadata": {}
        },
        {
          "output_type": "stream",
          "name": "stdout",
          "text": [
            "              precision    recall  f1-score   support\n",
            "\n",
            "           0       0.86      0.86      0.86        88\n",
            "           1       0.90      0.90      0.90       116\n",
            "\n",
            "    accuracy                           0.88       204\n",
            "   macro avg       0.88      0.88      0.88       204\n",
            "weighted avg       0.88      0.88      0.88       204\n",
            "\n",
            " Low Risk of Heart Attack\n"
          ]
        }
      ],
      "source": [
        "import pandas as pd\n",
        "import numpy as np\n",
        "import matplotlib.pyplot as plt\n",
        "import seaborn as sns\n",
        "from sklearn.model_selection import train_test_split\n",
        "from sklearn.preprocessing import StandardScaler, LabelEncoder\n",
        "from sklearn.ensemble import RandomForestClassifier\n",
        "from sklearn.metrics import accuracy_score, classification_report, confusion_matrix\n",
        "from imblearn.over_sampling import SMOTE\n",
        "import xgboost as xgb\n",
        "\n",
        "#  Load Dataset\n",
        "df = pd.read_csv(\"/content/heart (3).csv\")  # Ensure your dataset file is correct\n",
        "\n",
        "#  Display first 5 rows\n",
        "print(df.head())\n",
        "\n",
        "#  Check for missing values\n",
        "print(df.isnull().sum())\n",
        "\n",
        "#  Step 1: Convert Categorical Variables Using Encoders\n",
        "categorical_features = [\"Sex\", \"ChestPainType\", \"RestingECG\", \"ExerciseAngina\", \"ST_Slope\"]\n",
        "\n",
        "# Store encoders for future use\n",
        "encoders = {}\n",
        "for col in categorical_features:\n",
        "    le = LabelEncoder()\n",
        "    df[col] = le.fit_transform(df[col])  # Fit & transform dataset\n",
        "    encoders[col] = le  # Save encoder for later use\n",
        "\n",
        "#  Step 2: Define Features and Target\n",
        "X = df.drop(columns=[\"HeartDisease\"])  # Use the correct target column\n",
        "y = df[\"HeartDisease\"]\n",
        "\n",
        "#  Step 3: Balance Data with SMOTE (Handle Class Imbalance)\n",
        "smote = SMOTE(random_state=42)\n",
        "X_resampled, y_resampled = smote.fit_resample(X, y)\n",
        "\n",
        "#  Step 4: Train-Test Split (80% Training, 20% Testing)\n",
        "X_train, X_test, y_train, y_test = train_test_split(X_resampled, y_resampled, test_size=0.2, random_state=42)\n",
        "\n",
        "#  Step 5: Normalize Features (Standard Scaling)\n",
        "scaler = StandardScaler()\n",
        "X_train = scaler.fit_transform(X_train)\n",
        "X_test = scaler.transform(X_test)\n",
        "\n",
        "#  Step 6: Train XGBoost Model (Better Accuracy)\n",
        "xgb_model = xgb.XGBClassifier(n_estimators=200, learning_rate=0.1, max_depth=5, random_state=42)\n",
        "xgb_model.fit(X_train, y_train)\n",
        "\n",
        "#  Step 7: Make Predictions\n",
        "y_pred = xgb_model.predict(X_test)\n",
        "\n",
        "\n",
        "\n",
        "#  Confusion Matrix\n",
        "plt.figure(figsize=(5, 4))\n",
        "sns.heatmap(confusion_matrix(y_test, y_pred), annot=True, fmt=\"d\", cmap=\"Blues\")\n",
        "plt.xlabel(\"Predicted\")\n",
        "plt.ylabel(\"Actual\")\n",
        "plt.title(\"Confusion Matrix\")\n",
        "plt.show()\n",
        "\n",
        "#  Classification Report\n",
        "print(classification_report(y_test, y_pred))\n",
        "\n",
        "#  Step 9: Predict for a New Patient\n",
        "new_patient = pd.DataFrame({\n",
        "    \"Age\": [50], \"Sex\": [\"M\"], \"ChestPainType\": [\"ATA\"], \"RestingBP\": [130],\n",
        "    \"Cholesterol\": [200], \"FastingBS\": [1], \"RestingECG\": [\"Normal\"], \"MaxHR\": [80],\n",
        "    \"ExerciseAngina\": [\"N\"], \"Oldpeak\": [1.2], \"ST_Slope\": [\"Up\"]\n",
        "})\n",
        "\n",
        "#  Convert Categorical Variables Using the *Stored* Encoders\n",
        "for col in categorical_features:\n",
        "    if col in new_patient:\n",
        "        new_patient[col] = new_patient[col].map(lambda x: encoders[col].transform([x])[0] if x in encoders[col].classes_ else -1)\n",
        "\n",
        "# Handle unseen categories: Replace -1 with the most common category\n",
        "for col in categorical_features:\n",
        "    new_patient[col] = new_patient[col].replace(-1, df[col].mode()[0])  # Mode is the most common category\n",
        "\n",
        "#  Scale new patient data\n",
        "new_patient_scaled = scaler.transform(new_patient)\n",
        "\n",
        "#  Make Prediction\n",
        "prediction = xgb_model.predict(new_patient_scaled)\n",
        "\n",
        "if prediction[0] == 1:\n",
        "    print(\" High Risk of Heart Attack\")\n",
        "else:\n",
        "    print(\" Low Risk of Heart Attack\")"
      ]
    },
    {
      "cell_type": "code",
      "source": [],
      "metadata": {
        "id": "vD0Skvu7oyRb"
      },
      "execution_count": null,
      "outputs": []
    }
  ]
}